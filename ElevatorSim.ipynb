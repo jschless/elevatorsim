{
 "cells": [
  {
   "cell_type": "markdown",
   "metadata": {},
   "source": [
    "# Attempting to Model Elevator Situation with SimPy\n",
    "## The Problem\n",
    "My apartment building has three elevators, but one is reserved for freight. So, it really has two elevators which are called with one button. \n",
    "\n",
    "One of the elevators broke down, so the building opened the freight elevator up to the residents to increase throughput. The freight elevator has its own button, which works independently of the passenger elevator.\n",
    "\n",
    "I noticed one day as I was descending that the elevator kept stopping and no one would get in. I realized the people in my building had started pressing both buttons and then getting in the elevator that arrived first.\n",
    "\n",
    "That got me thinking. Is that optimal? Are we all worse off because of this?\n",
    "\n",
    "Here are my research questions:\n",
    "1. Are we all worse off if everyone does this behavior?\n",
    "2. Is there a threshold for how many people have to do this to make it worse?\n",
    "3. Can we solve this problem through simulation and probability (numerical and analytical)?\n",
    "\n",
    "My first attempt at solving this is to run a simulation in Python"
   ]
  },
  {
   "cell_type": "markdown",
   "metadata": {},
   "source": [
    "# Dependencies"
   ]
  },
  {
   "cell_type": "code",
   "execution_count": 1,
   "metadata": {},
   "outputs": [],
   "source": [
    "import random\n",
    "import numpy as np\n",
    "import matplotlib.pyplot as plt"
   ]
  },
  {
   "cell_type": "markdown",
   "metadata": {},
   "source": [
    "## Simplifying Assumptions\n",
    "- Elevator going down picks up people that want to be picked up (regardless of when they push button)\n",
    "- If someone gets on at a non lobby floor, they're going to the lobby\n",
    "- Elevator drops off passengers on its way up and on the way down at the lobby\n",
    "- Half of the customers come on at the lobby, the other half come on with equal likelihood on the residential floors\n",
    "- When an elevator stops, it stops for 5 seconds (initial parameter)\n",
    "- An elevator travels one floor per second (initial parameter)"
   ]
  },
  {
   "cell_type": "markdown",
   "metadata": {},
   "source": [
    "# Defining an Elevator Class\n",
    "We're going to have multiple elevators, which all do the same thing. Good time to make a class!"
   ]
  },
  {
   "cell_type": "code",
   "execution_count": 2,
   "metadata": {},
   "outputs": [],
   "source": [
    "class Elevator(object):\n",
    "    def __init__(self, name, debug=False, wait_time=5, n_floors=23):\n",
    "        self.name = name\n",
    "        self.wait_time = wait_time\n",
    "        self.n_floors = n_floors\n",
    "        self.loc = 0 # current floor\n",
    "        self.moving_up = True # default is true because elevator starts on ground\n",
    "        self.to_pick_up, self.to_drop_off = [], []\n",
    "        self.stopped = 0 # works as a timer, if its zero, not stopped\n",
    "        self.idle = True # Elevator isn't doing anything\n",
    "        self.throughput = 0# number of customers served\n",
    "        self.average_times = []\n",
    "        self.time = 0\n",
    "        self.debug = debug\n",
    "        \n",
    "    def __str__(self):\n",
    "        ans = self.name + ': '\n",
    "        if self.idle:\n",
    "            ans += 'idle'\n",
    "        elif self.stopped > 0:\n",
    "            ans += 'stopped'\n",
    "        elif self.should_stop():\n",
    "            ans += 'stopping to pick up or drop off'\n",
    "        elif len(self.to_drop_off) == 0 and len(self.to_pick_up) == 0:\n",
    "            ans += 'switching to idle'\n",
    "        else:\n",
    "            ans += f'moving, moving_up: {self.moving_up}'\n",
    "        ans += '\\npassenger dests: ' + ', '.join([str(cust.dest) for cust in self.to_drop_off]) \n",
    "        return ans\n",
    "    \n",
    "    def move(self, time):\n",
    "        self.time = time\n",
    "        if self.idle:\n",
    "            return\n",
    "        elif self.stopped > 0:\n",
    "            # if stopped, stay stopped\n",
    "            # can pick up more customers\n",
    "            self.stopped -= 1\n",
    "            self.pick_up()\n",
    "            self.drop_off()\n",
    "        elif self.should_stop():\n",
    "            self.pick_up_and_drop_off()\n",
    "        elif len(self.to_drop_off) == 0 and len(self.to_pick_up) == 0:\n",
    "            self.idle = True\n",
    "        else:\n",
    "            self.loc += 1 if self.moving_up else -1\n",
    "            if self.loc > self.n_floors: # bounds checking\n",
    "                self.loc = self.n_floors\n",
    "                self.moving_up = False\n",
    "            if self.loc < 0:\n",
    "                self.loc = 0\n",
    "                self.moving_up = True \n",
    "                \n",
    "    def should_stop(self):\n",
    "        if self.moving_up: # stop to drop off people\n",
    "            if len(self.to_drop_off) == 0: # elevator is empty, picking heads up\n",
    "                for customer in self.to_pick_up:\n",
    "                    if customer.curr == self.loc:\n",
    "                        return True\n",
    "            for customer in self.to_drop_off:\n",
    "                if customer.dest == self.loc:\n",
    "                    return True\n",
    "        else:\n",
    "            for customer in self.to_pick_up:\n",
    "                if customer.curr == self.loc:\n",
    "                    return True\n",
    "            for customer in self.to_drop_off:\n",
    "                if customer.dest == self.loc:\n",
    "                    return True\n",
    "                \n",
    "    def new_customer(self, customer):\n",
    "        self.to_pick_up.append(customer)\n",
    "        self.idle = False\n",
    "    \n",
    "    def pick_up(self):\n",
    "        for customer in self.to_pick_up:\n",
    "            if customer.curr == self.loc:\n",
    "                self.to_pick_up.remove(customer)\n",
    "                if customer.on_elevator == None:\n",
    "                    # customer isn't already on an elevator\n",
    "                    if self.debug:\n",
    "                        print(f'{self.name} picked up customer {customer} at floor {self.loc}')\n",
    "\n",
    "                    self.to_drop_off.append(customer)\n",
    "                    customer.on_elevator = self\n",
    "                \n",
    "    def drop_off(self):\n",
    "        for customer in self.to_drop_off:\n",
    "            if customer.dest == self.loc:\n",
    "                if self.debug:\n",
    "                    print(f'{self.name} dropped off customer {customer} at floor {self.loc}')\n",
    "                self.to_drop_off.remove(customer)\n",
    "                self.average_times.append(self.time-customer.start_time)\n",
    "                self.throughput += 1\n",
    "\n",
    "    def pick_up_and_drop_off(self):\n",
    "        # dropping people off\n",
    "        # which direction to proceed?\n",
    "        if self.moving_up:\n",
    "            # elevators only drops off on the way up, unless its the last stop\n",
    "            self.drop_off()\n",
    "            \n",
    "            # keep moving up if:\n",
    "            # people need to be dropped off above current location\n",
    "            # possibly: elevator is empty and people need to be picked up above current location\n",
    "            continue_moving_up = False\n",
    "            for cust in self.to_drop_off:\n",
    "                if cust.dest > self.loc:\n",
    "                    continue_moving_up = True\n",
    "                    break\n",
    "            self.moving_up = continue_moving_up            \n",
    "        if not self.moving_up:\n",
    "            # keep moving down, unless you're at the lobby \n",
    "            self.pick_up() \n",
    "            if self.loc == 0: # at lobby, drop people off\n",
    "                self.drop_off()\n",
    "            self.moving_up = True if self.loc == 0 else False\n",
    "\n",
    "        self.stopped = self.wait_time # need to stop to pick people up\n"
   ]
  },
  {
   "cell_type": "markdown",
   "metadata": {},
   "source": [
    "# Define Customer Class\n",
    "The customer class does not have much logic. The key is to randomly generate current floor and destination floor."
   ]
  },
  {
   "cell_type": "code",
   "execution_count": 3,
   "metadata": {},
   "outputs": [],
   "source": [
    "class Customer(object):\n",
    "    def __init__(self, start_time, cust_number, n_floors=23, percent_lobby=.5):\n",
    "        self.number = cust_number\n",
    "        rand = np.random.random()\n",
    "        randint = np.random.randint(3, n_floors+1)\n",
    "        # half the time, someone gets on at the lobby, other half someone gets on a random floor\n",
    "        self.curr, self.dest = (0, np.random.randint(3,23)) if rand <= percent_lobby else (np.random.randint(3,23), 0) \n",
    "        self.start_time = start_time\n",
    "        self.on_elevator = None # which elevator customer entered\n",
    "        \n",
    "    def __str__(self):\n",
    "        return f'customer number: {self.number}, location: {self.curr}, destination: {self.dest}'"
   ]
  },
  {
   "cell_type": "markdown",
   "metadata": {},
   "source": [
    "# Plotting Function to Visualize the Hotel at a Given Time"
   ]
  },
  {
   "cell_type": "code",
   "execution_count": 4,
   "metadata": {},
   "outputs": [],
   "source": [
    "def plot_hotel(e1, e2, n_floors):\n",
    "    text_output = ''\n",
    "    customers_waiting = list(set(e1.to_pick_up) | set(e2.to_pick_up))\n",
    "    for i in range(n_floors, -1, -1):\n",
    "        text_output += f'\\nfloor {i}: '\n",
    "        if e1.loc == i:\n",
    "            text_output += str(e1) + ' '\n",
    "        if e2.loc == i:\n",
    "            text_output += str(e2) + ' '\n",
    "        \n",
    "        for c in customers_waiting:\n",
    "            if c.curr == i:\n",
    "                text_output += 'X'\n",
    "    return text_output + '\\n'"
   ]
  },
  {
   "cell_type": "markdown",
   "metadata": {},
   "source": [
    "# Define Parameters and Run Simulation\n",
    "\n",
    "Each iteration of the for loop will symbolize one second in this simulation. This is convenient because I avoid having to use actual timing.\n",
    "\n",
    "## Simulating Arrivals\n",
    "I am sampling a poisson distribution to determine arrival time. The lambda in this case is the number of seconds it takes for a passenger to call the elevator. I then take the cumulitive sum of this sampling, and this gives the seconds over the simulation that a passenger arrives.\n",
    "\n",
    "## Poisson Distribution Assumptions\n",
    "One important poisson assumption is that lambda is constant. Of course, it's not in my hotel. But for the purpose of this, I'm going to assume there's one hour that's relatively busy where a person calls an elevator every 20 seconds."
   ]
  },
  {
   "cell_type": "code",
   "execution_count": 115,
   "metadata": {},
   "outputs": [],
   "source": [
    "def simulation(button_press_func=None, time_steps=3600, wait_time=5, poisson_lambda=20, n_floors=23, debug=False, \n",
    "              percent_lobby=.5):\n",
    "    cust_number = 0\n",
    "    arrivals = np.random.poisson(lam=poisson_lambda, size=10000).cumsum()\n",
    "    e1 = Elevator('Service Elevator')\n",
    "    e2 = Elevator('Regular Elevator')\n",
    "    for i in range(time_steps):\n",
    "        if debug:\n",
    "            print(f'time step {i}')\n",
    "            print(plot_hotel(e1, e2, n_floors))\n",
    "        e1.move(i)\n",
    "        e2.move(i)\n",
    "        if i in arrivals:\n",
    "            cust_number += 1\n",
    "            temp = Customer(i, cust_number, n_floors=n_floors, percent_lobby=percent_lobby)\n",
    "            if debug:\n",
    "                print(f'customer wants to get picked up at {temp.curr} and dropped off at {temp.dest}')\n",
    "            if button_press_func == None:\n",
    "                print('ERROR! Define the way passengers press buttons')\n",
    "                return e1, e2\n",
    "            button_press_func(temp, e1, e2)\n",
    "    return e1, e2"
   ]
  },
  {
   "cell_type": "markdown",
   "metadata": {},
   "source": [
    "# Creating Decision Function for Which Button to Press"
   ]
  },
  {
   "cell_type": "code",
   "execution_count": 116,
   "metadata": {},
   "outputs": [],
   "source": [
    "def press_both(temp, e1, e2):\n",
    "    e1.new_customer(temp)\n",
    "    e2.new_customer(temp)\n",
    "    \n",
    "press_both_sim = simulation(button_press_func=press_both, debug=False, time_steps=3600)"
   ]
  },
  {
   "cell_type": "markdown",
   "metadata": {},
   "source": [
    "# Plotting\n",
    "Let's look at the histogram of time spent for each customer. I'll also output a few statistics of interest, like throughput, average time, and worst case time"
   ]
  },
  {
   "cell_type": "code",
   "execution_count": 177,
   "metadata": {},
   "outputs": [
    {
     "data": {
      "text/plain": [
       "39.75"
      ]
     },
     "execution_count": 177,
     "metadata": {},
     "output_type": "execute_result"
    }
   ],
   "source": [
    "np.quantile(e1.average_times, .75)"
   ]
  },
  {
   "cell_type": "code",
   "execution_count": 117,
   "metadata": {},
   "outputs": [
    {
     "name": "stdout",
     "output_type": "stream",
     "text": [
      "Service Elevator throughput: 86\n",
      "Service Elevator mean elevator time: 35.33720930232558\n",
      "Regular Elevator throughput: 86\n",
      "Regular Elevator mean elevator time: 38.58139534883721\n",
      "combined mean elevator time: 36.9593023255814\n",
      "Worst trip time was 297\n"
     ]
    },
    {
     "data": {
      "image/png": "[encoded data removed]",
      "text/plain": [
       "<Figure size 432x288 with 1 Axes>"
      ]
     },
     "metadata": {
      "needs_background": "light"
     },
     "output_type": "display_data"
    }
   ],
   "source": [
    "def display_results(e1, e2):\n",
    "    combined_times = e1.average_times + e2.average_times\n",
    "    for e in [e1,e2]:\n",
    "        print(f'{e.name} throughput: {e.throughput}')\n",
    "        print(f'{e.name} Median elevator time: {np.median(e.average_times)}')\n",
    "    fig = plt\n",
    "    fig.title('Average trip time')\n",
    "    fig.hist(combined_times)\n",
    "    print(f'combined median elevator time: {np.median(combined_times)}')\n",
    "    print(f'Worst trip time was {max(combined_times)}')\n",
    "    \n",
    "display_results(*press_both_sim)"
   ]
  },
  {
   "cell_type": "markdown",
   "metadata": {},
   "source": [
    "# Comparing Average Times Based on Button Pressing\n",
    "Seeing the average times is useful, but we still need to compare different behaviors. Is double pressing worse than single pressing?\n",
    "\n",
    "Single pressing will be blind. At random, the patron will choose which elevator to call."
   ]
  },
  {
   "cell_type": "code",
   "execution_count": 118,
   "metadata": {},
   "outputs": [
    {
     "name": "stdout",
     "output_type": "stream",
     "text": [
      "Service Elevator throughput: 92\n",
      "Service Elevator mean elevator time: 35.95652173913044\n",
      "Regular Elevator throughput: 83\n",
      "Regular Elevator mean elevator time: 41.734939759036145\n",
      "combined mean elevator time: 38.69714285714286\n",
      "Worst trip time was 174\n"
     ]
    },
    {
     "data": {
      "image/png": "[encoded data removed]",
      "text/plain": [
       "<Figure size 432x288 with 1 Axes>"
      ]
     },
     "metadata": {
      "needs_background": "light"
     },
     "output_type": "display_data"
    }
   ],
   "source": [
    "def press_one(temp, e1, e2):\n",
    "    if np.random.randint(2):\n",
    "        e1.new_customer(temp)\n",
    "    else:\n",
    "        e2.new_customer(temp)\n",
    "        \n",
    "press_one_sim = simulation(button_press_func=press_one, debug=False)\n",
    "display_results(*press_one_sim)"
   ]
  },
  {
   "cell_type": "markdown",
   "metadata": {},
   "source": [
    "# Comparisons\n",
    "Look at the average results. If everyone presses both buttons, we get about 37 seconds of average travel time. If everyone presses one button, we get about 39 seconds of average travel time. I'm not too confident about these results because this is only one trial. We'll be more rigorous later.\n",
    "\n",
    "Looking more closely at the histogram reveals an interesting result. The tail if everyone presses both buttons is longer. This means, everyone does a bit better on average, but the worst case is also worse. The worst case if everyone pressed both buttons is about two minutes longer! Yea, on average we go slightly faster (2 seconds) but we can potentially have a much longer ride. \n",
    "\n",
    "This is a good example of mean being a misleading statistic if the distribution is not Gaussian (not a normal curve). We have these long tails, which are hidden if we focus only on the mean. We should focus on the median!"
   ]
  },
  {
   "cell_type": "markdown",
   "metadata": {},
   "source": [
    "# Looking for an Optimal Split\n",
    "We define a function that either presses one or both buttons. Let's look for the best possible arrangement. We'll also run multiple trials so we have more robust results."
   ]
  },
  {
   "cell_type": "code",
   "execution_count": 119,
   "metadata": {},
   "outputs": [],
   "source": [
    "def press_one_or_two(temp, e1, e2, prob):\n",
    "    if np.random.random() < prob:\n",
    "        press_one(temp, e1, e2)\n",
    "    else:\n",
    "        press_both(temp, e1, e2)"
   ]
  },
  {
   "cell_type": "code",
   "execution_count": 148,
   "metadata": {},
   "outputs": [],
   "source": [
    "probabilities = np.linspace(0, 1, num=11)\n",
    "results = {}\n",
    "n_trials = 100\n",
    "for p in probabilities:\n",
    "    def press_one_or_two(temp, e1, e2):\n",
    "        print(temp)\n",
    "        print(e1)\n",
    "        print(e2)\n",
    "\n",
    "        if np.random.random() < p:\n",
    "            press_one(temp, e1, e2)\n",
    "        else:\n",
    "            press_both(temp, e1, e2)\n",
    "    temp = []\n",
    "    for i in range(n_trials):\n",
    "        temp.append(simulation(button_press_func=press_both, time_steps=3600))\n",
    "    results[p] = temp"
   ]
  },
  {
   "cell_type": "code",
   "execution_count": 149,
   "metadata": {},
   "outputs": [],
   "source": [
    "mean_dict, worst_dict = {}, {}\n",
    "for p, result in results.items():\n",
    "    temp_means = []\n",
    "    temp_worsts = []\n",
    "    for e1, e2 in result:\n",
    "        temp_means.append(np.median(e1.average_times+e2.average_times))\n",
    "        temp_worsts.append(np.max(e1.average_times+e2.average_times))\n",
    "    mean_dict[p] = temp_means\n",
    "    worst_dict[p] = temp_worsts\n",
    "\n",
    "def plot_dict(adict):\n",
    "    xs = adict.keys()\n",
    "    ys = [np.mean(x) for x in adict.values()]\n",
    "    errors = [np.std(x) for x in adict.values()]\n",
    "    plt.errorbar(xs, ys, yerr=errors)\n",
    "    plt.xlabel('Percent of People who Press One Button')\n",
    "    plt.ylabel('Time')"
   ]
  },
  {
   "cell_type": "code",
   "execution_count": 150,
   "metadata": {},
   "outputs": [
    {
     "data": {
      "image/png": "[encoded data removed]",
      "text/plain": [
       "<Figure size 432x288 with 1 Axes>"
      ]
     },
     "metadata": {
      "needs_background": "light"
     },
     "output_type": "display_data"
    }
   ],
   "source": [
    "plot_dict(mean_dict)"
   ]
  },
  {
   "cell_type": "code",
   "execution_count": 151,
   "metadata": {},
   "outputs": [
    {
     "data": {
      "image/png": "[encoded data removed]",
      "text/plain": [
       "<Figure size 432x288 with 1 Axes>"
      ]
     },
     "metadata": {
      "needs_background": "light"
     },
     "output_type": "display_data"
    }
   ],
   "source": [
    "plot_dict(worst_dict)"
   ]
  },
  {
   "cell_type": "markdown",
   "metadata": {},
   "source": [
    "# What Next?\n",
    "So, from these plots it looks like our simulations are almost random. We ran 100 trials, but they are incredibly variable. One reason for this might be that we have a short time for the simulation. Let's re-run it but simulate over 24 hours."
   ]
  },
  {
   "cell_type": "code",
   "execution_count": 156,
   "metadata": {},
   "outputs": [],
   "source": [
    "probabilities = np.linspace(0, 1, num=11)\n",
    "results = {}\n",
    "n_trials = 200\n",
    "for p in probabilities:\n",
    "    def press_one_or_two(temp, e1, e2):\n",
    "        print(temp)\n",
    "        print(e1)\n",
    "        print(e2)\n",
    "\n",
    "        if np.random.random() < p:\n",
    "            press_one(temp, e1, e2)\n",
    "        else:\n",
    "            press_both(temp, e1, e2)\n",
    "    temp = []\n",
    "    for i in range(n_trials):\n",
    "        temp.append(simulation(button_press_func=press_both, time_steps=3600))\n",
    "    results[p] = temp"
   ]
  },
  {
   "cell_type": "code",
   "execution_count": 157,
   "metadata": {},
   "outputs": [],
   "source": [
    "mean_dict, worst_dict = {}, {}\n",
    "for p, result in results.items():\n",
    "    temp_means = []\n",
    "    temp_worsts = []\n",
    "    for e1, e2 in result:\n",
    "        temp_means.append(np.mean(e1.average_times+e2.average_times))\n",
    "        temp_worsts.append(np.max(e1.average_times+e2.average_times))\n",
    "    mean_dict[p] = temp_means\n",
    "    worst_dict[p] = temp_worsts\n",
    "\n",
    "def plot_dict(adict):\n",
    "    xs = adict.keys()\n",
    "    ys = [np.mean(x) for x in adict.values()]\n",
    "    errors = [np.std(x) for x in adict.values()]\n",
    "    plt.errorbar(xs, ys, yerr=errors)\n",
    "    plt.xlabel('Percent of People who Press One Button')\n",
    "    plt.ylabel('Time')"
   ]
  },
  {
   "cell_type": "code",
   "execution_count": 158,
   "metadata": {},
   "outputs": [
    {
     "data": {
      "image/png": "[encoded data removed]",
      "text/plain": [
       "<Figure size 432x288 with 1 Axes>"
      ]
     },
     "metadata": {
      "needs_background": "light"
     },
     "output_type": "display_data"
    }
   ],
   "source": [
    "plot_dict(mean_dict)"
   ]
  },
  {
   "cell_type": "code",
   "execution_count": 159,
   "metadata": {},
   "outputs": [
    {
     "data": {
      "image/png": "[encoded data removed]",
      "text/plain": [
       "<Figure size 432x288 with 1 Axes>"
      ]
     },
     "metadata": {
      "needs_background": "light"
     },
     "output_type": "display_data"
    }
   ],
   "source": [
    "plot_dict(worst_dict)"
   ]
  },
  {
   "cell_type": "markdown",
   "metadata": {},
   "source": [
    "Seemingly, no number of trials and no simulation length will lead to a definitive claim. I guess for now, there is not much difference in pressing both buttons versus pressing one. \n",
    "\n",
    "Mildly disappointing. :(\n",
    "\n",
    "But, let's look back to the insights from the first run. Our Gaussian assumptions lead to misunderstanding the actual data. By plotting this data with an error bar, we again assume a Gaussian distribution.\n",
    "\n",
    "We know we are dealing with a right skewed distribution, so let's take a look at outlier-resistant statistics. "
   ]
  },
  {
   "cell_type": "markdown",
   "metadata": {},
   "source": [
    "# One More Try\n",
    "Let's not look for an optimal probability. Just compare pressing both or pressing one.\n"
   ]
  },
  {
   "cell_type": "code",
   "execution_count": 165,
   "metadata": {},
   "outputs": [],
   "source": [
    "n_trials = 100\n",
    "press_one_sims = []\n",
    "press_both_sims = []\n",
    "for i in range(n_trials):\n",
    "    press_one_sims.append(simulation(button_press_func=press_one, time_steps=3600))    \n",
    "    press_both_sims.append(simulation(button_press_func=press_both, time_steps=3600))"
   ]
  },
  {
   "cell_type": "code",
   "execution_count": 166,
   "metadata": {},
   "outputs": [],
   "source": [
    "one_times = []\n",
    "both_times = []\n",
    "for i in range(n_trials):\n",
    "    e1, e2 = press_one_sims[i]\n",
    "    one_times += e1.average_times\n",
    "    one_times += e2.average_times\n",
    "    \n",
    "    e1, e2 = press_both_sims[i]\n",
    "    both_times += e1.average_times\n",
    "    both_times += e2.average_times"
   ]
  },
  {
   "cell_type": "code",
   "execution_count": 202,
   "metadata": {},
   "outputs": [],
   "source": [
    "def summary_statistics(oen_times, two_times):\n",
    "    print(f'Median for one press: {np.median(one_times)}')\n",
    "    print(f'Median for both press: {np.median(two_times)}')\n",
    "\n",
    "    xs = []\n",
    "    one_ys = []\n",
    "    two_ys = []\n",
    "    for i in range(1, 100):\n",
    "        quant = .01*i\n",
    "        xs.append(i)\n",
    "        one_ys.append(np.quantile(one_times, quant))\n",
    "        two_ys.append(np.quantile(two_times, quant))\n",
    "        #print(f'{quant} quantile: {np.quantile(times, quant)}')\n",
    "    plt.plot(xs, one_ys, label='One Button')\n",
    "    plt.plot(xs, two_ys, label='Both Buttons')\n",
    "    plt.legend()\n",
    "    plt.xlabel('Quantile')\n",
    "    plt.ylabel('Time')\n",
    "    #    plt.hist(times)"
   ]
  },
  {
   "cell_type": "code",
   "execution_count": 203,
   "metadata": {},
   "outputs": [
    {
     "name": "stdout",
     "output_type": "stream",
     "text": [
      "Median for one press: 34.0\n",
      "Median for both press: 28.0\n"
     ]
    },
    {
     "data": {
      "image/png": "[encoded data removed]",
      "text/plain": [
       "<Figure size 432x288 with 1 Axes>"
      ]
     },
     "metadata": {
      "needs_background": "light"
     },
     "output_type": "display_data"
    }
   ],
   "source": [
    "summary_statistics(one_times, both_times)"
   ]
  },
  {
   "cell_type": "markdown",
   "metadata": {},
   "source": [
    "Interesting. Around the 95th quantile, pressing both buttons significantly increases elevator time. However, in general it is faster.\n",
    "\n",
    "So, if everyone chooses to press both buttons, we get a 6 second speed up, at the expense of a 2 minute worse, worst case scenario."
   ]
  }
 ],
 "metadata": {
  "kernelspec": {
   "display_name": "Python 3",
   "language": "python",
   "name": "python3"
  },
  "language_info": {
   "codemirror_mode": {
    "name": "ipython",
    "version": 3
   },
   "file_extension": ".py",
   "mimetype": "text/x-python",
   "name": "python",
   "nbconvert_exporter": "python",
   "pygments_lexer": "ipython3",
   "version": "3.7.3"
  }
 },
 "nbformat": 4,
 "nbformat_minor": 2
}
